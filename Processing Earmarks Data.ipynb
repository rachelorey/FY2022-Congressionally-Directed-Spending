{
 "cells": [
  {
   "cell_type": "code",
   "execution_count": 1,
   "id": "14b82e8d",
   "metadata": {},
   "outputs": [],
   "source": [
    "import pandas as pd\n",
    "earmarks = pd.read_csv(\"C:\\\\Users\\\\rorey\\\\OneDrive - Bipartisan Policy Center\\\\Congress\\\\Earmarks Data\\\\earmarks_forsharing.csv\")"
   ]
  },
  {
   "cell_type": "code",
   "execution_count": 2,
   "id": "6cb02d68",
   "metadata": {},
   "outputs": [],
   "source": [
    "partycols = earmarks.columns[earmarks.columns.str.contains('Party')]"
   ]
  },
  {
   "cell_type": "code",
   "execution_count": 3,
   "id": "2a111194",
   "metadata": {},
   "outputs": [],
   "source": [
    "earmarks [\"Republican Requestors\"] = (earmarks[partycols]==\"Republican\").sum(1)\n",
    "earmarks [\"Democrat Requestors\"] = (earmarks[partycols]==\"Democrat\").sum(1)\n",
    "earmarks [\"Independent Requestors\"] = (earmarks[partycols]==\"Independent\").sum(1)"
   ]
  },
  {
   "cell_type": "code",
   "execution_count": 16,
   "id": "a7f4c7da",
   "metadata": {},
   "outputs": [],
   "source": [
    "chambercols = earmarks.columns[earmarks.columns.str.contains('Chamber')]"
   ]
  },
  {
   "cell_type": "code",
   "execution_count": 17,
   "id": "dd1ae4e5",
   "metadata": {},
   "outputs": [],
   "source": [
    "earmarks [\"House Requestors\"] = (earmarks[chambercols]==\"rep\").sum(1)\n",
    "earmarks [\"Senate Requestors\"] = (earmarks[chambercols]==\"sen\").sum(1)"
   ]
  },
  {
   "cell_type": "code",
   "execution_count": 24,
   "id": "d9ca8d1e",
   "metadata": {},
   "outputs": [
    {
     "data": {
      "text/plain": [
       "array([1, 2, 3, 4, 9], dtype=int64)"
      ]
     },
     "execution_count": 24,
     "metadata": {},
     "output_type": "execute_result"
    }
   ],
   "source": [
    "## check to make sure no rows sum to zero\n",
    "# earmarks[[\"Republican Requestors\",\"Democrat Requestors\",\"Independent Requestors\"]].sum(1).unique()\n",
    "# earmarks[[\"House Requestors\",\"Senate Requestors\"]].sum(1).unique()"
   ]
  },
  {
   "cell_type": "code",
   "execution_count": 53,
   "id": "2a6bdd3a",
   "metadata": {},
   "outputs": [],
   "source": [
    "earmarks.to_csv(\"C:\\\\Users\\\\rorey\\\\OneDrive - Bipartisan Policy Center\\\\Congress\\\\Earmarks Data\\\\earmarks_withtotals.csv\",index=False)"
   ]
  },
  {
   "cell_type": "markdown",
   "id": "ee3ddd5c",
   "metadata": {},
   "source": [
    "## Getting Data on Chamber and Partisan Affiliation of Requestors"
   ]
  },
  {
   "cell_type": "code",
   "execution_count": 34,
   "id": "77fb15b6",
   "metadata": {},
   "outputs": [],
   "source": [
    "reps = earmarks[earmarks[[\"Republican Requestors\"]].sum(1)/earmarks[[\"Republican Requestors\",\"Democrat Requestors\",\"Independent Requestors\"]].sum(1)==1]\n",
    "dems = earmarks[earmarks[[\"Democrat Requestors\"]].sum(1)/earmarks[[\"Republican Requestors\",\"Democrat Requestors\",\"Independent Requestors\"]].sum(1)==1]\n",
    "inds = earmarks[earmarks[[\"Independent Requestors\"]].sum(1)/earmarks[[\"Republican Requestors\",\"Democrat Requestors\",\"Independent Requestors\"]].sum(1)==1]\n"
   ]
  },
  {
   "cell_type": "code",
   "execution_count": 50,
   "id": "38a197b1",
   "metadata": {},
   "outputs": [],
   "source": [
    "# (earmarks[[\"Republican Requestors\"]].sum(1)/earmarks[[\"Republican Requestors\",\"Democrat Requestors\",\"Independent Requestors\"]].sum(1)!=1) or (earmarks[[\"Democrat Requestors\"]].sum(1)/earmarks[[\"Republican Requestors\",\"Democrat Requestors\",\"Independent Requestors\"]].sum(1)!=1"
   ]
  },
  {
   "cell_type": "code",
   "execution_count": 51,
   "id": "1bf8d03c",
   "metadata": {},
   "outputs": [],
   "source": [
    "# earmarks[[\"Republican Requestors\"]].sum(1)/earmarks[[\"Republican Requestors\",\"Democrat Requestors\",\"Independent Requestors\"]].sum(1)!=1 or earmarks[[\"Republican Requestors\"]].sum(1)/earmarks[[\"Republican Requestors\",\"Democrat Requestors\",\"Independent Requestors\"]].sum(1)!=1"
   ]
  },
  {
   "cell_type": "code",
   "execution_count": 38,
   "id": "61f72a9d",
   "metadata": {},
   "outputs": [
    {
     "data": {
      "text/plain": [
       "307"
      ]
     },
     "execution_count": 38,
     "metadata": {},
     "output_type": "execute_result"
    }
   ],
   "source": [
    "len(earmarks)-(len(reps)+len(dems)+len(inds))"
   ]
  }
 ],
 "metadata": {
  "kernelspec": {
   "display_name": "Python 3 (ipykernel)",
   "language": "python",
   "name": "python3"
  },
  "language_info": {
   "codemirror_mode": {
    "name": "ipython",
    "version": 3
   },
   "file_extension": ".py",
   "mimetype": "text/x-python",
   "name": "python",
   "nbconvert_exporter": "python",
   "pygments_lexer": "ipython3",
   "version": "3.9.7"
  }
 },
 "nbformat": 4,
 "nbformat_minor": 5
}
